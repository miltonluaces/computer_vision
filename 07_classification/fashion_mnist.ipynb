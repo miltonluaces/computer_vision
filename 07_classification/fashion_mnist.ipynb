{
 "cells": [
  {
   "cell_type": "markdown",
   "id": "suspended-slovenia",
   "metadata": {},
   "source": [
    "# Fashion Mnist classification"
   ]
  },
  {
   "cell_type": "code",
   "execution_count": null,
   "id": "labeled-gazette",
   "metadata": {},
   "outputs": [],
   "source": []
  },
  {
   "cell_type": "code",
   "execution_count": 3,
   "id": "sexual-johnson",
   "metadata": {},
   "outputs": [],
   "source": [
    "import sys\n",
    "sys.path.append('D:/source/repos')\n",
    "from utilities.std_imports import *\n",
    "import os\n",
    "import sys\n",
    "import sklearn\n",
    "import time\n",
    "import tensorflow.keras as tk"
   ]
  },
  {
   "cell_type": "code",
   "execution_count": 5,
   "id": "reduced-duncan",
   "metadata": {},
   "outputs": [
    {
     "ename": "SyntaxError",
     "evalue": "cannot assign to function call (<ipython-input-5-4a1d376b8e9a>, line 1)",
     "output_type": "error",
     "traceback": [
      "\u001b[1;36m  File \u001b[1;32m\"<ipython-input-5-4a1d376b8e9a>\"\u001b[1;36m, line \u001b[1;32m1\u001b[0m\n\u001b[1;33m    fm = tensorflow.keras.datasets.fashion_mnist(X_train_full, y_train_full), (X_test, y_test) = (fashion_mnist.load_data())\u001b[0m\n\u001b[1;37m         ^\u001b[0m\n\u001b[1;31mSyntaxError\u001b[0m\u001b[1;31m:\u001b[0m cannot assign to function call\n"
     ]
    }
   ],
   "source": [
    "fm = tensorflow.keras.datasets.fashion_mnist(X_train_full, y_train_full), (X_test, y_test) = (fashion_mnist.load_data())\n",
    "X_valid, X_train = X_train_full[:5000], X_train_full[5000:]\n",
    "y_valid, y_train = y_train_full[:5000], y_train_full[5000:]"
   ]
  },
  {
   "cell_type": "code",
   "execution_count": null,
   "id": "virtual-render",
   "metadata": {},
   "outputs": [],
   "source": []
  }
 ],
 "metadata": {
  "kernelspec": {
   "display_name": "Python 3.8.1 64-bit",
   "language": "python",
   "name": "python38164bitc33de82c9da04edea88eb124459bf44a"
  },
  "language_info": {
   "codemirror_mode": {
    "name": "ipython",
    "version": 3
   },
   "file_extension": ".py",
   "mimetype": "text/x-python",
   "name": "python",
   "nbconvert_exporter": "python",
   "pygments_lexer": "ipython3",
   "version": "3.8.6"
  }
 },
 "nbformat": 4,
 "nbformat_minor": 5
}

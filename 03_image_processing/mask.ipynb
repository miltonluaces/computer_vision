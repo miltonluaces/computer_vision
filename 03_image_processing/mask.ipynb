{
 "cells": [
  {
   "cell_type": "code",
   "execution_count": null,
   "metadata": {},
   "outputs": [],
   "source": [
    "from Utils.Admin.Standard import *\n",
    "import cv2\n",
    "\n",
    "img = cv2.imread(imgPath + 'charts/chart1.png')\n",
    "cv2.imshow(\"chart\", img) \n",
    "#cv2.waitKey(0)\n",
    "\n",
    "#converted = convert_hls(img)\n",
    "image = cv2.cvtColor(img,cv2.COLOR_BGR2HLS)\n",
    "# White mask\n",
    "lwr = np.uint8([0, 200, 0])\n",
    "upr = np.uint8([255, 255, 255])\n",
    "whiteMask = cv2.inRange(image, lwr, upr)\n",
    "\n",
    "# yellow color mask\n",
    "lwr = np.uint8([10, 0,   100])\n",
    "upr = np.uint8([40, 255, 255])\n",
    "yellowMask = cv2.inRange(image, lwr, upr)\n",
    "\n",
    "# combine the mask\n",
    "mask = cv2.bitwise_or(whiteMask, yellowMask)\n",
    "cv2.imshow(\"mask\",mask) \n",
    "cv2.waitKey(0)\n",
    "\n",
    "res = img.copy()\n",
    "\n"
   ]
  }
 ],
 "metadata": {
  "kernelspec": {
   "display_name": "Python 3",
   "language": "python",
   "name": "python3"
  },
  "language_info": {
   "codemirror_mode": {
    "name": "ipython",
    "version": 3
   },
   "file_extension": ".py",
   "mimetype": "text/x-python",
   "name": "python",
   "nbconvert_exporter": "python",
   "pygments_lexer": "ipython3",
   "version": "3.7.1"
  }
 },
 "nbformat": 4,
 "nbformat_minor": 4
}

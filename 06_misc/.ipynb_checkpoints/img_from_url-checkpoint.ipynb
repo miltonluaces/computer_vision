{
 "cells": [
  {
   "cell_type": "markdown",
   "metadata": {},
   "source": [
    "# Extract image from URL"
   ]
  },
  {
   "cell_type": "code",
   "execution_count": 31,
   "metadata": {},
   "outputs": [],
   "source": [
    "import cv2\n",
    "from selenium import webdriver\n",
    "from depot.manager import DepotManager "
   ]
  },
  {
   "cell_type": "code",
   "execution_count": 28,
   "metadata": {},
   "outputs": [],
   "source": [
    "depot = DepotManager.get()\n",
    "driver = webdriver.PhantomJS()\n",
    "driver.set_window_size(800, 600) "
   ]
  },
  {
   "cell_type": "code",
   "execution_count": 200,
   "metadata": {},
   "outputs": [
    {
     "data": {
      "text/plain": [
       "True"
      ]
     },
     "execution_count": 200,
     "metadata": {},
     "output_type": "execute_result"
    }
   ],
   "source": [
    "url = 'https://www.morningstar.es/es/funds/snapshot/p_snapshot.aspx?id=F0000002IY'\n",
    "driver.get(url)\n",
    "driver.save_screenshot('ms.png')"
   ]
  },
  {
   "cell_type": "markdown",
   "metadata": {},
   "source": [
    "Complete"
   ]
  },
  {
   "cell_type": "code",
   "execution_count": 201,
   "metadata": {},
   "outputs": [],
   "source": [
    "img = cv2.imread('ms.png')\n",
    "cv2.imshow('image',img)\n",
    "cv2.waitKey(0)\n",
    "cv2.destroyAllWindows()"
   ]
  },
  {
   "cell_type": "markdown",
   "metadata": {},
   "source": [
    "First chart"
   ]
  },
  {
   "cell_type": "code",
   "execution_count": 179,
   "metadata": {},
   "outputs": [],
   "source": [
    "roi = img[125:257, 87:350]\n",
    "cv2.imshow('image',roi)\n",
    "cv2.waitKey(0)\n",
    "cv2.destroyAllWindows()"
   ]
  },
  {
   "cell_type": "markdown",
   "metadata": {},
   "source": [
    "Second chart with isin"
   ]
  },
  {
   "cell_type": "code",
   "execution_count": 202,
   "metadata": {},
   "outputs": [],
   "source": [
    "roi = img[1589:1745, 77:644]\n",
    "font                   = cv2.FONT_HERSHEY_SIMPLEX\n",
    "bottomLeftCornerOfText = (5,150)\n",
    "fontScale              = 0.35\n",
    "fontColor              = (1,1,1)\n",
    "lineType               = 1\n",
    "cv2.putText(roi,'F0000002IY', bottomLeftCornerOfText, font, fontScale, fontColor, lineType)\n",
    "cv2.imshow('image',roi)\n",
    "cv2.imwrite('chart.png', roi)\n",
    "cv2.waitKey(0)\n",
    "cv2.destroyAllWindows()"
   ]
  },
  {
   "cell_type": "code",
   "execution_count": 207,
   "metadata": {},
   "outputs": [],
   "source": [
    "def GetFundChart(ticker):\n",
    "    url = 'https://www.morningstar.es/es/funds/snapshot/p_snapshot.aspx?id=' + ticker\n",
    "    driver.get(url)\n",
    "    driver.save_screenshot('ms.png')\n",
    "    \n",
    "    roi = img[1589:1745, 77:644]\n",
    "    font                   = cv2.FONT_HERSHEY_SIMPLEX\n",
    "    bottomLeftCornerOfText = (5,150)\n",
    "    fontScale              = 0.35\n",
    "    fontColor              = (1,1,1)\n",
    "    lineType               = 1\n",
    "    cv2.putText(roi,ticker, bottomLeftCornerOfText, font, fontScale, fontColor, lineType)\n",
    "    cv2.imwrite(ticker + '.png', roi)\n",
    "    print(ticker + '.png saved')"
   ]
  },
  {
   "cell_type": "code",
   "execution_count": 208,
   "metadata": {},
   "outputs": [
    {
     "name": "stdout",
     "output_type": "stream",
     "text": [
      "F0000002IY.png saved.\n"
     ]
    }
   ],
   "source": [
    "GetFundChart(ticker='F0000002IY')"
   ]
  },
  {
   "cell_type": "code",
   "execution_count": null,
   "metadata": {},
   "outputs": [],
   "source": []
  }
 ],
 "metadata": {
  "kernelspec": {
   "display_name": "Python 3.8.1 64-bit",
   "language": "python",
   "name": "python38164bitc33de82c9da04edea88eb124459bf44a"
  },
  "language_info": {
   "codemirror_mode": {
    "name": "ipython",
    "version": 3
   },
   "file_extension": ".py",
   "mimetype": "text/x-python",
   "name": "python",
   "nbconvert_exporter": "python",
   "pygments_lexer": "ipython3",
   "version": "3.8.1"
  }
 },
 "nbformat": 4,
 "nbformat_minor": 4
}

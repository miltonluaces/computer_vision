{
 "cells": [
  {
   "cell_type": "code",
   "execution_count": null,
   "metadata": {},
   "outputs": [],
   "source": [
    "#from wand.image import Image as Img\n",
    "#with Img(filename='file_name.pdf', resolution=300) as img:\n",
    "#    img.compression_quality = 99\n",
    "#    img.save(filename='image_name.jpg')\n",
    "\n",
    "import numpy as np\n",
    "import cv2\n",
    "import matplotlib.pyplot as plt\n",
    "import pytesseract\n",
    "from PIL import Image\n",
    "\n",
    "pytesseract.pytesseract.tesseract_cmd = 'C:/Program Files (x86)/Tesseract-OCR/tesseract.exe'\n",
    "\n",
    "# Load an color image in grayscale\n",
    "img = cv2.imread(\"../../../../data/Images/inv1.jpeg\",0)\n",
    "\n",
    "#cv2.imshow('image', img)\n",
    "#cv2.waitKey(0)\"../../../../data/Images/inv1.jpeg\"\n",
    "#cv2.destroyAllWindows()\n",
    "\n",
    "#plt.imshow(img)\n",
    "#plt.show()\n",
    "\n",
    "#text = pytesseract.image_to_string(Image.open(\"../../../../data/Images/inv1.jpeg\"))\n",
    "im = Image.open(\"../../../../data/Images/inv1.jpeg\")\n",
    "text = pytesseract.image_to_boxes(im, lang = 'eng')\n",
    "print(text)"
   ]
  }
 ],
 "metadata": {
  "kernelspec": {
   "display_name": "Python 3",
   "language": "python",
   "name": "python3"
  },
  "language_info": {
   "codemirror_mode": {
    "name": "ipython",
    "version": 3
   },
   "file_extension": ".py",
   "mimetype": "text/x-python",
   "name": "python",
   "nbconvert_exporter": "python",
   "pygments_lexer": "ipython3",
   "version": "3.7.1"
  }
 },
 "nbformat": 4,
 "nbformat_minor": 4
}

{
 "cells": [
  {
   "cell_type": "code",
   "execution_count": null,
   "metadata": {},
   "outputs": [],
   "source": [
    "from Utils.Admin.Standard import *\n",
    "import cv2\n",
    "from skimage.measure import compare_ssim\n",
    "\n",
    "# load the two input images\n",
    "imgA = cv2.imread(imgPath + 'cardA.jpg')\n",
    "imgB = cv2.imread(imgPath + 'cardB.jpg')\n",
    "imgC = cv2.imread(imgPath + 'cardC.jpg')\n",
    "\n",
    "cv2.imshow('imgA', imgA)\n",
    "cv2.imshow('imgB', imgB)\n",
    "cv2.imshow('imgC', imgC)\n",
    "cv2.waitKey(0)\n",
    "\n",
    "\n",
    "# resize\n",
    "stSize = (200,120)\n",
    "imgA = cv2.resize(imgA,stSize)\n",
    "imgB = cv2.resize(imgB,stSize)\n",
    "imgC = cv2.resize(imgC,stSize)\n",
    "\n",
    "cv2.imshow('imgA', imgA)\n",
    "cv2.imshow('imgB', imgB)\n",
    "cv2.imshow('imgC', imgC)\n",
    "cv2.waitKey(0)\n",
    "\n",
    " \n",
    "# convert the images to grayscale\n",
    "imgA = cv2.cvtColor(imgA, cv2.COLOR_BGR2GRAY)\n",
    "imgB = cv2.cvtColor(imgB, cv2.COLOR_BGR2GRAY)\n",
    "imgC = cv2.cvtColor(imgC, cv2.COLOR_BGR2GRAY)\n",
    "\n",
    "cv2.imshow('imgA', imgA)\n",
    "cv2.imshow('imgB', imgB)\n",
    "cv2.imshow('imgC', imgC)\n",
    "cv2.waitKey(0)\n",
    "cv2.destroyAllWindows()\n",
    "\n",
    "(scoreAA, diffAA) = compare_ssim(imgA, imgA, full=True)\n",
    "(scoreAB, diffAB) = compare_ssim(imgA, imgB, full=True)\n",
    "(scoreAC, diffAC) = compare_ssim(imgA, imgC, full=True)\n",
    "#diffAB = (diff * 255).astype(\"uint8\")\n",
    "print(\"AC: {}\".format(scoreAC))\n",
    "print(\"AB: {}\".format(scoreAB))\n",
    "print(\"AA: {}\".format(scoreAA))"
   ]
  }
 ],
 "metadata": {
  "kernelspec": {
   "display_name": "Python 3",
   "language": "python",
   "name": "python3"
  },
  "language_info": {
   "codemirror_mode": {
    "name": "ipython",
    "version": 3
   },
   "file_extension": ".py",
   "mimetype": "text/x-python",
   "name": "python",
   "nbconvert_exporter": "python",
   "pygments_lexer": "ipython3",
   "version": "3.7.1"
  }
 },
 "nbformat": 4,
 "nbformat_minor": 4
}

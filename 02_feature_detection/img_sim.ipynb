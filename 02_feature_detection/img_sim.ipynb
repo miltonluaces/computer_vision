{
 "cells": [
  {
   "cell_type": "code",
   "execution_count": null,
   "metadata": {},
   "outputs": [],
   "source": [
    "from Utils.Admin.Standard import *\n",
    "from skimage.measure import compare_ssim\n",
    "import numpy as np\n",
    "import cv2\n",
    "\n",
    "class ImgSim:\n",
    "\n",
    "  \n",
    "    def __init__(self, srcImgs, tarImgs, stSize, partial, thres):\n",
    "        self.srcImgs = srcImgs\n",
    "        self.tarImgs = tarImgs\n",
    "        self.stSize = stSize\n",
    "        self.partial = partial\n",
    "        self.thres = thres\n",
    "\n",
    "    def Calculate(self):\n",
    "        self.srcImgs = self.preprocess(self.srcImgs)\n",
    "        self.tarImgs = self.preprocess(self.tarImgs)\n",
    "        self.scoreImgs()\n",
    "         \n",
    "    def preprocess(self, imgs):\n",
    "            prepImgs = []\n",
    "            for img in imgs:\n",
    "                img = cv2.cvtColor(img, cv2.COLOR_BGR2GRAY)\n",
    "                img = cv2.resize(img, self.stSize)\n",
    "                prepImgs.append(img)\n",
    "            return prepImgs\n",
    "     \n",
    "    def scoreImgs(self):\n",
    "        self.scores = np.zeros((len(self.srcImgs), len(self.tarImgs)), dtype=np.float64)\n",
    "        t=-1; s=-1\n",
    "        for tar in self.tarImgs:\n",
    "            t=t+1; s=-1\n",
    "            for src in self.srcImgs:\n",
    "                s=s+1\n",
    "                score = compare_ssim(src, tar)\n",
    "                self.scores[t,s] = score\n",
    "             \n",
    "            \n",
    "\n",
    "\n",
    "\n",
    "if __name__==\"__main__\":\n",
    "    print('Test')\n",
    "    imgA = cv2.imread(imgPath + 'cardA.jpg')\n",
    "    imgB = cv2.imread(imgPath + 'cardB.jpg')\n",
    "    imgC = cv2.imread(imgPath + 'cardC.jpg')\n",
    "    srcImgs = [imgA, imgB]\n",
    "    tarImgs = [imgB, imgC]\n",
    "\n",
    "    iS = ImgSim(srcImgs, tarImgs, (200,120), False, 0.7)\n",
    "    iS.Calculate()\n",
    "    print(iS.scores)\n"
   ]
  }
 ],
 "metadata": {
  "kernelspec": {
   "display_name": "Python 3",
   "language": "python",
   "name": "python3"
  },
  "language_info": {
   "codemirror_mode": {
    "name": "ipython",
    "version": 3
   },
   "file_extension": ".py",
   "mimetype": "text/x-python",
   "name": "python",
   "nbconvert_exporter": "python",
   "pygments_lexer": "ipython3",
   "version": "3.7.1"
  }
 },
 "nbformat": 4,
 "nbformat_minor": 4
}

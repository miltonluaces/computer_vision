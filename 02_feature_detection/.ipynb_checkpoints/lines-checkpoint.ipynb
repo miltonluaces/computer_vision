{
 "cells": [
  {
   "cell_type": "code",
   "execution_count": null,
   "metadata": {},
   "outputs": [],
   "source": [
    "from Utils.Admin.Standard import *\n",
    "import cv2\n",
    "\n",
    "\n",
    "# rho : distance resolution in pixels of the Hough grid\n",
    "# theta : angular resolution in radians of the Hough grid\n",
    "# thres : minimum number of votes (intersections in Hough grid cell)\n",
    "# minLineLenght : minimum number of pixels making up a line\n",
    "# maxLineGap : maximum gap in pixels between connectable line segments \n",
    "\n",
    "def GetLines(img, lwrThres, uprThres, rho, theta, thres, minLineLenght, maxLineGap):\n",
    "    edges = cv2.Canny(img, lwrThres, uprThres)\n",
    "    lines = cv2.HoughLinesP(edges, rho, theta, thres, np.array([]), minLineLenght, maxLineGap)\n",
    "    return lines\n",
    "\n",
    "\n",
    "if __name__=='__main__':\n",
    "    # Load image\n",
    "    img = cv2.imread(imgPath + 'charts/chart1.png', 0)\n",
    "    cv2.imshow(\"chart\", img) \n",
    "    cv2.waitKey(0)\n",
    "\n",
    "    # Get the lines from image\n",
    "    lines = GetLines(img, lwrThres=50, uprThres=150, rho=1, theta=np.pi/180, thres=15, minLineLenght=50, maxLineGap=20)\n",
    "\n",
    "    lineImg = np.copy(img) * 0  # creating a blank to draw lines on\n",
    "    for line in lines:\n",
    "        for x1,y1,x2,y2 in line:\n",
    "            cv2.line(lineImg,(x1,y1),(x2,y2),(255,0,0),5)\n",
    "\n",
    "    cv2.imshow(\"lines\", lineImg) \n",
    "    cv2.waitKey(0)\n",
    "\n",
    "    print('Lines :')\n",
    "    print(lines)\n",
    "\n",
    "    # Draw the lines on the image\n",
    "    imgWithLines = cv2.addWeighted(img, 0.8, lineImg, 1, 0)\n",
    "    cv2.imshow(\"lines\", imgWithLines) \n",
    "    cv2.waitKey(0)\n"
   ]
  }
 ],
 "metadata": {
  "kernelspec": {
   "display_name": "Python 3",
   "language": "python",
   "name": "python3"
  },
  "language_info": {
   "codemirror_mode": {
    "name": "ipython",
    "version": 3
   },
   "file_extension": ".py",
   "mimetype": "text/x-python",
   "name": "python",
   "nbconvert_exporter": "python",
   "pygments_lexer": "ipython3",
   "version": "3.8.1"
  }
 },
 "nbformat": 4,
 "nbformat_minor": 4
}

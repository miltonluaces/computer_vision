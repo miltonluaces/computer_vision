{
 "cells": [
  {
   "cell_type": "code",
   "execution_count": null,
   "metadata": {},
   "outputs": [],
   "source": [
    "from Utils.Admin.standard import *\n",
    "import cv2\n",
    "\n",
    "# Load data\n",
    "img = cv2.imread(dataPath + 'Images/messi5.jpg')\n",
    "\n",
    "# Get RGB pixel\n",
    "px = img[100,100]\n",
    "print(px)\n",
    "\n",
    "\n",
    "# Get only blue pixel\n",
    "blue = img[100,100,0]\n",
    "print(blue)\n",
    "\n",
    "# Set pixel value\n",
    "img[100,100] = [255,255,255]\n",
    "print(img[100,100])\n",
    "\n",
    "# Properties\n",
    "print(image.shape)\n",
    "print(image.size)\n",
    "print(image.dtype)"
   ]
  }
 ],
 "metadata": {
  "kernelspec": {
   "display_name": "Python 3",
   "language": "python",
   "name": "python3"
  },
  "language_info": {
   "codemirror_mode": {
    "name": "ipython",
    "version": 3
   },
   "file_extension": ".py",
   "mimetype": "text/x-python",
   "name": "python",
   "nbconvert_exporter": "python",
   "pygments_lexer": "ipython3",
   "version": "3.7.1"
  }
 },
 "nbformat": 4,
 "nbformat_minor": 4
}

{
 "cells": [
  {
   "cell_type": "code",
   "execution_count": null,
   "metadata": {},
   "outputs": [],
   "source": [
    "from Utils.Admin.Standard import *\n",
    "import cv2\n",
    "from FeatureDetection.Lines import GetLines\n",
    "\n",
    "img = cv2.imread(imgPath + 'charts/chart1.png', 0)\n",
    "cv2.imshow(\"chart\", img) \n",
    "cv2.waitKey(0)\n",
    "\n",
    "lines = GetLines(img, lwrThres=50, uprThres=150, rho=1, theta=np.pi/180, thres=15, minLineLenght=50, maxLineGap=20)\n",
    "print(lines)"
   ]
  }
 ],
 "metadata": {
  "kernelspec": {
   "display_name": "Python 3",
   "language": "python",
   "name": "python3"
  },
  "language_info": {
   "codemirror_mode": {
    "name": "ipython",
    "version": 3
   },
   "file_extension": ".py",
   "mimetype": "text/x-python",
   "name": "python",
   "nbconvert_exporter": "python",
   "pygments_lexer": "ipython3",
   "version": "3.7.1"
  }
 },
 "nbformat": 4,
 "nbformat_minor": 4
}
